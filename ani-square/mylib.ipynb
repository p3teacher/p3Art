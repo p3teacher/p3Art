{
 "cells": [
  {
   "cell_type": "code",
   "execution_count": null,
   "metadata": {},
   "outputs": [],
   "source": [
    "# mylib.py\n",
    "# 2018-11-12\n",
    "# python3\n",
    "# rep;.it web Python 3.61\n",
    "#\n",
    "import numpy as np\n",
    "from shapely.geometry  import LineString\n",
    "#\n",
    "# specifying the width and the height of the box in inches\n",
    "# declare graphics area\n",
    "#\n",
    "# here width == height\n",
    "# 定義圖面函數 --------------------------------------\n",
    "def set_graphic_area(width,height) :\n",
    "        \n",
    "    cm2inch = 1/2.54    # inch per cm\n",
    "    #\n",
    "    # define graphic area\n",
    "    #\n",
    "    left_margin = 1.0   # cm\n",
    "    right_margin = 1.0  # cm\n",
    "    #\n",
    "    figure_width  = width  # cm , from xmin to xmax\n",
    "    figure_height = height # cm , from ymin to ymax\n",
    "    #\n",
    "    top_margin = 1.0    # cm\n",
    "    bottom_margin = 1.0 # cm\n",
    "    #\n",
    "    box_width = left_margin + figure_width + right_margin   # cm\n",
    "    box_height = top_margin + figure_height + bottom_margin # cm\n",
    "    #\n",
    "    top_value    = 1.0 - top_margin / box_height\n",
    "    bottom_value = bottom_margin / box_height\n",
    "    left_value   = left_margin / box_width\n",
    "    right_value  = 1.0 - right_margin / box_width\n",
    "    #\n",
    "    return (box_width*cm2inch,box_height*cm2inch,top_value,bottom_value,left_value,right_value,width)\n",
    "    #\n",
    "# end of def\n",
    "#\n",
    "# Define the arc\n",
    "# center position is cxy = (cx, cy)\n",
    "# start_angle, end_angle is in degrees\n",
    "#\n",
    "def shapely_Arc(cxy, r, start_angle, end_angle) :\n",
    "    #\n",
    "    numsegments = 1000\n",
    "    # The coordinates of the arc\n",
    "    theta = np.radians(np.linspace(start_angle, end_angle, numsegments))\n",
    "    x = cxy[0] + r * np.cos(theta)\n",
    "    y = cxy[1] + r * np.sin(theta)\n",
    "    Arc = LineString(np.column_stack([x, y]))\n",
    "    return Arc\n",
    "    #\n",
    "# end of def\n",
    "#"
   ]
  }
 ],
 "metadata": {
  "kernelspec": {
   "display_name": "Python 3",
   "language": "python",
   "name": "python3"
  },
  "language_info": {
   "codemirror_mode": {
    "name": "ipython",
    "version": 3
   },
   "file_extension": ".py",
   "mimetype": "text/x-python",
   "name": "python",
   "nbconvert_exporter": "python",
   "pygments_lexer": "ipython3",
   "version": "3.6.7"
  }
 },
 "nbformat": 4,
 "nbformat_minor": 2
}
