{
 "cells": [
  {
   "cell_type": "code",
   "execution_count": 2,
   "id": "1f38b79e-6385-4088-99ab-bf18740ddd5f",
   "metadata": {},
   "outputs": [
    {
     "name": "stdout",
     "output_type": "stream",
     "text": [
      "['fig-1A.png', 'fig-1B.png', 'fig-1C.png', 'fig-1D.png', 'fig-1E.png', 'fig-1F.png', 'fig-1G.png', 'fig-1H.png', 'fig-1I.png', 'fig-1J.png', 'fig-1K-3.png', 'fig-2A.png', 'fig-2B.png', 'fig-2C.png', 'fig-2D.png', 'fig-2E.png', 'fig-2F.png', 'fig-2G.png', 'fig-2H.png', 'fig-2I.png', 'fig-2J.png', 'fig-2K-1.png', 'fig-2K-2.png', 'fig-2L-1.png', 'fig-2L-2.png', 'fig-2L-3.png', 'fig-2L-4.png', 'fig-2M-1.png', 'fig-2M-2.png', 'fig-2N.png', 'fig-2P.png', 'fig-2Q.png', 'fig-2R.png', 'fig-2S.png', 'fig-2T.png', 'fig-2U.png']\n",
      "Done\n"
     ]
    }
   ],
   "source": [
    "# step-by-step-gif-file-1\n",
    "# 2021-10-31\n",
    "#\n",
    "# python 3.8.2\n",
    "# run on https://repl.it\n",
    "#\n",
    "# inspired by: AMA認知與教學工作群\n",
    "#\n",
    "# pptx : AMA-2020東京奧運logo-解構-2021-0731PUB\n",
    "#\n",
    "# 要執行本程式, 請按上方run▶\n",
    "#\n",
    "# to fix matplotlib warning\n",
    "import os\n",
    "os.environ['MPLCONFIGDIR'] = os.getcwd() + \"/configs/\"\n",
    "#\n",
    "import imageio\n",
    "import numpy as np\n",
    "import matplotlib.pyplot as plot\n",
    "#\n",
    "# Get file names from directory\n",
    "def f_list():\n",
    "    file_list = os.listdir(r\"./png3/\")\n",
    "    print (file_list)\n",
    "    return file_list\n",
    "# end def\n",
    "#\n",
    "def load_image(png_file) :\n",
    "    image = plot.imread(png_file)\n",
    "    image = (image * 255).round().astype(np.uint8)\n",
    "    # print(image.dtype)\n",
    "    return image\n",
    "# end def \n",
    "#\n",
    "# retrieve file list\n",
    "png_list = f_list()\n",
    "# print(png_list)\n",
    "#\n",
    "# kwargs_write = {'fps':1, 'quantizer':'nq'}\n",
    "imageio.mimsave('step-by-step-1.gif', [load_image('./png3/'+png) for png in png_list], fps=1, duration=1.0)\n",
    "#\n",
    "print ('Done')"
   ]
  },
  {
   "cell_type": "code",
   "execution_count": null,
   "id": "b3506ffc-be55-42f7-92cd-83f992909dcf",
   "metadata": {},
   "outputs": [],
   "source": []
  }
 ],
 "metadata": {
  "kernelspec": {
   "display_name": "Python 3 (ipykernel)",
   "language": "python",
   "name": "python3"
  },
  "language_info": {
   "codemirror_mode": {
    "name": "ipython",
    "version": 3
   },
   "file_extension": ".py",
   "mimetype": "text/x-python",
   "name": "python",
   "nbconvert_exporter": "python",
   "pygments_lexer": "ipython3",
   "version": "3.9.1"
  }
 },
 "nbformat": 4,
 "nbformat_minor": 5
}
