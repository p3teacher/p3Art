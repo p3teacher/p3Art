{
 "cells": [
  {
   "cell_type": "code",
   "execution_count": 1,
   "id": "1f38b79e-6385-4088-99ab-bf18740ddd5f",
   "metadata": {},
   "outputs": [
    {
     "name": "stdout",
     "output_type": "stream",
     "text": [
      "['rcm-12-B.png', 'rcm-12-C.png', 'rcm-12-D.png', 'rcm-12-E.png', 'rcm-12-F.png', 'rcm-12-G.png', 'rcm-12-H.png', 'rcm-12-I.png', 'rcm-12-J.png', 'rcm-12-K.png', 'rcm-12-L.png']\n",
      "Done\n"
     ]
    }
   ],
   "source": [
    "# step-by-step-gif-file-2B\n",
    "# 2021-10-31\n",
    "#\n",
    "# python 3.8.2\n",
    "# run on https://repl.it\n",
    "#\n",
    "# inspired by: AMA認知與教學工作群\n",
    "#\n",
    "# pptx : AMA-2020東京奧運logo-解構-2021-0731PUB\n",
    "#\n",
    "# 要執行本程式, 請按上方run▶\n",
    "#\n",
    "# to fix matplotlib warning\n",
    "import os\n",
    "os.environ['MPLCONFIGDIR'] = os.getcwd() + \"/configs/\"\n",
    "#\n",
    "import imageio\n",
    "import numpy as np\n",
    "import matplotlib.pyplot as plot\n",
    "#\n",
    "# Get file names from directory\n",
    "def f_list():\n",
    "    file_list = os.listdir(r\"./png5B/\")\n",
    "    print (file_list)\n",
    "    return file_list\n",
    "# end def\n",
    "#\n",
    "def load_image(png_file) :\n",
    "    image = plot.imread(png_file)\n",
    "    image = (image * 255).round().astype(np.uint8)\n",
    "    # print(image.dtype)\n",
    "    return image\n",
    "# end def \n",
    "#\n",
    "# retrieve file list\n",
    "png_list = f_list()\n",
    "# print(png_list)\n",
    "#\n",
    "# kwargs_write = {'fps':1, 'quantizer':'nq'}\n",
    "imageio.mimsave('step-by-step-2B.gif', [load_image('./png5B/'+png) for png in png_list], fps=1, duration=1.0)\n",
    "#\n",
    "print ('Done')"
   ]
  },
  {
   "cell_type": "code",
   "execution_count": null,
   "id": "b3506ffc-be55-42f7-92cd-83f992909dcf",
   "metadata": {},
   "outputs": [],
   "source": []
  }
 ],
 "metadata": {
  "kernelspec": {
   "display_name": "Python 3 (ipykernel)",
   "language": "python",
   "name": "python3"
  },
  "language_info": {
   "codemirror_mode": {
    "name": "ipython",
    "version": 3
   },
   "file_extension": ".py",
   "mimetype": "text/x-python",
   "name": "python",
   "nbconvert_exporter": "python",
   "pygments_lexer": "ipython3",
   "version": "3.9.1"
  }
 },
 "nbformat": 4,
 "nbformat_minor": 5
}
